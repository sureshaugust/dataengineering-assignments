import pandas as pd
import seaborn as sns
import datetime as dt
import numpy as np
import matplotlib.pyplot as plt
import matplotlib.ticker as ticker


from ast import Index
url_address = 'https://raw.githubusercontent.com/Kiran-255666/AdventureWorks/main/Adventureworks/Address.csv'
url_customer = 'https://raw.githubusercontent.com/Kiran-255666/AdventureWorks/main/Adventureworks/Customer.csv'
url_customer_addr = 'https://raw.githubusercontent.com/Kiran-255666/AdventureWorks/main/Adventureworks/CustomerAddress.csv'
url_product = 'https://raw.githubusercontent.com/Kiran-255666/AdventureWorks/main/Adventureworks/Product.csv'
url_product_cat='https://raw.githubusercontent.com/Kiran-255666/AdventureWorks/main/Adventureworks/ProductCategory.csv'
url_product_desc='https://raw.githubusercontent.com/Kiran-255666/AdventureWorks/main/Adventureworks/ProductDescription.csv'
url_product_model='https://raw.githubusercontent.com/Kiran-255666/AdventureWorks/main/Adventureworks/ProductModel.csv'
url_prod_model_desc='https://raw.githubusercontent.com/Kiran-255666/AdventureWorks/main/Adventureworks/ProductModelProductDescription.csv'
url_sales_order_det='https://raw.githubusercontent.com/Kiran-255666/AdventureWorks/main/Adventureworks/SalesOrderDetail.csv'
url_sales_order_head='https://raw.githubusercontent.com/Kiran-255666/AdventureWorks/main/Adventureworks/SalesOrderHeader.csv'

df_address = pd.read_csv(url_address,encoding='latin-1')
df_customer = pd.read_csv(url_customer,encoding='latin-1')
df_product_desc = pd.read_csv(url_product_desc,encoding='latin-1')
df_customer_addr = pd.read_csv(url_customer_addr)
df_product = pd.read_csv(url_product)
df_product_cat = pd.read_csv(url_product_cat)
df_product_model = pd.read_csv(url_product_model)
df_prod_model_desc = pd.read_csv(url_prod_model_desc)
df_sales_order_det = pd.read_csv(url_sales_order_det)
df_sales_order_head = pd.read_csv(url_sales_order_head)

#display(df_address)
#display(df_customer)
#display(df_product_desc)
#display(df_customer_addr)
#display(df_product)
#display(df_product_cat)
#display(df_product_model)
#display(df_prod_model_desc)
#display(df_sales_order_det)
#display(df_sales_order_head)

#cleaning the missimg values and removes the dupliacates in product
df_address.to_csv('address.csv',index=False)
df_customer.to_csv('customer.csv',index=False)
df_customer.drop_duplicates()
missing__prod_val=df_product.isnull().sum()
df_product.dropna()
df_product.drop_duplicates()

#removing ? mark with '' in the description
df_product_desc['Description']=df_product_desc['Description'].str.replace('?','')
df_product_desc.to_csv('product_desc.csv',index=False)
df_customer_addr.to_csv('customer_addr.csv',index=False)
df_product.to_csv('products.csv', index=False)
# Replacing NaN with 0 in Parent Product Category Id
df_product_cat['ParentProductCategoryID']=df_product_cat['ParentProductCategoryID'].fillna(0)
df_product_cat.to_csv('product_cat.csv', index=False)

df_product_model.dropna()
df_product_model.to_csv('product_model.csv', index=False)
df_prod_model_desc.to_csv('prod_model_desc.csv', index=False)
df_sales_order_det.to_csv('sales_order_det.csv', index=False)
df_sales_order_head.to_csv('sales_order_head.csv', index=False)








